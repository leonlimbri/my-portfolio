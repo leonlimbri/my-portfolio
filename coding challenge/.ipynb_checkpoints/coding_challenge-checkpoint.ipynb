{
 "cells": [
  {
   "cell_type": "markdown",
   "id": "f65986d5-9b32-4166-8add-fe139b0b2ffe",
   "metadata": {},
   "source": [
    "## Python Coding Challenges\n",
    "---\n",
    "https://www.interviewkickstart.com/blog/advanced-python-coding-challenges\n",
    "#### Import Modules"
   ]
  },
  {
   "cell_type": "code",
   "execution_count": 103,
   "id": "7ef3b3e1-412e-4aac-9cbf-330c312a6f9e",
   "metadata": {},
   "outputs": [],
   "source": [
    "from datetime import datetime # Used for challenge STRINGS-3\n",
    "import socket                 # Used for challenge STRINGS-4"
   ]
  },
  {
   "cell_type": "markdown",
   "id": "df4b079a-5afa-457a-9fbe-87f4acd55857",
   "metadata": {},
   "source": [
    "### Python Coding Challenges on Strings\n",
    "**Strings-1** Write a function in Python to check duplicate letters. It must accept a string, i.e., a sentence. The function should return True if the sentence has any word with duplicate letters, else return False. "
   ]
  },
  {
   "cell_type": "code",
   "execution_count": 16,
   "id": "0dffd289-dd3f-4641-8000-d35efb71d50f",
   "metadata": {},
   "outputs": [],
   "source": [
    "def check_duplicates(s: str) -> bool:\n",
    "    '''\n",
    "        Check whether there is any duplicate letters in the\n",
    "        string.\n",
    "        \n",
    "        Parameters\n",
    "        ----------\n",
    "        s: str\n",
    "            The string to be checked\n",
    "            \n",
    "        Returns\n",
    "        -------\n",
    "        bool\n",
    "            True means there is a duplicate items\n",
    "            \n",
    "    '''\n",
    "    \n",
    "    assert isinstance(s, str), 'invalid input, input must be a `str`'\n",
    "    return len(s) != len(set(s))"
   ]
  },
  {
   "cell_type": "markdown",
   "id": "cdf1fa7e-4bb9-456a-8af2-5a99fbd1d6be",
   "metadata": {},
   "source": [
    "**Strings-2** Write a code in Python to create a Morse code translator. You can take a string with alphanumeric characters in lower or upper case. The string can also have any special characters as a part of the Morse code. Special characters can include commas, colons, apostrophes, exclamation marks, periods, and question marks. The code should return the Morse code that is equivalent to the string."
   ]
  },
  {
   "cell_type": "code",
   "execution_count": 62,
   "id": "d1272658-4994-4b40-ae74-c4756f334b9f",
   "metadata": {},
   "outputs": [],
   "source": [
    "def convert_morse(s: str) -> str:\n",
    "    '''\n",
    "        Convert a string to a morse code.\n",
    "        \n",
    "        Parameters\n",
    "        ----------\n",
    "        s: str\n",
    "            The string to be converted\n",
    "            \n",
    "        Returns\n",
    "        -------\n",
    "        str\n",
    "            Morse code of `-` and `.`\n",
    "            \n",
    "    '''\n",
    "    \n",
    "    assert isinstance(s, str), 'invalid input, input must be a `str`'\n",
    "    \n",
    "    MORSE_CODE_DICT = {}\n",
    "    with open('resources/morse_code_dict.txt', encoding = 'utf-8') as f:\n",
    "        for line in f:\n",
    "            morse_code = line.strip().split(':')\n",
    "            MORSE_CODE_DICT[morse_code[0]] = morse_code[1]\n",
    "    \n",
    "    morse_code_result = ''\n",
    "    for char in s:\n",
    "        morse_code_result += MORSE_CODE_DICT[char.lower()]\n",
    "    \n",
    "    return morse_code_result"
   ]
  },
  {
   "cell_type": "markdown",
   "id": "bf4fa2dd-5080-400e-a875-8fe8eac10828",
   "metadata": {},
   "source": [
    "**Strings-3** Write a function to detect 13th Friday. The function can accept two parameters, and both will be numbers. The first parameter will be the number indicating the month, and the second will be the year in four digits. Your function should parse the parameters, and it must return True when the month contains a Friday with the 13th, else return False. "
   ]
  },
  {
   "cell_type": "code",
   "execution_count": 99,
   "id": "c65c38f1-77b3-4c12-a86b-73cd4c39c912",
   "metadata": {},
   "outputs": [],
   "source": [
    "def detect_friday_thirteenth(month: int, year: int) -> bool:\n",
    "    '''\n",
    "        Check whether the particular month and year given\n",
    "        contains Friday the 13th.\n",
    "        \n",
    "        Parameters\n",
    "        ----------\n",
    "        month: int\n",
    "            The month of the given period, starting with `1`\n",
    "            indicating `January` and ending with `12` for\n",
    "            `December`.\n",
    "            \n",
    "        year: int\n",
    "            The year of the given period, must be a 4 digit\n",
    "            number.\n",
    "            \n",
    "        Returns\n",
    "        -------\n",
    "        bool\n",
    "            True means that the period given contains Friday\n",
    "            the 13th.\n",
    "            \n",
    "    '''\n",
    "    \n",
    "    assert month >= 0 and month <= 12 and isinstance(month, int), 'invalid month, month must be an `int` in 1..12'\n",
    "    assert year >= 0 and year < 10000 and isinstance(year, int), 'invalid year, year must be a positive 4 digit integer number'\n",
    "    \n",
    "    return datetime(year, month, 13).weekday() == 4"
   ]
  },
  {
   "cell_type": "markdown",
   "id": "0bb02348-ff90-46f8-acef-1447c8ed80a8",
   "metadata": {},
   "source": [
    "**Strings-4** Write a function to find the domain name from the IP address. The function will accept an IP address, make a DNS request, and return the domain name that maps to that IP address while using records of PTR DNS. You can import the Python socket library."
   ]
  },
  {
   "cell_type": "code",
   "execution_count": 141,
   "id": "2a36aae2-016b-41a5-8b9e-3b0655eae251",
   "metadata": {},
   "outputs": [],
   "source": [
    "def find_domain_name(ip_address: str) -> str:\n",
    "    '''\n",
    "        Find the domain name by making a DNS request then\n",
    "        return the domain name that maps to that IP address.\n",
    "        \n",
    "        Parameters\n",
    "        ----------\n",
    "        ip_address: str\n",
    "            The ip address.\n",
    "            \n",
    "        Returns\n",
    "        -------\n",
    "        str\n",
    "            The Domain Name.\n",
    "            \n",
    "    '''\n",
    "    \n",
    "    assert isinstance(ip_address, str), 'invalid input, input must be a `str`'\n",
    "    \n",
    "    host_name = socket.gethostbyaddr(ip_address)[0]\n",
    "    return socket.getfqdn(host_name)"
   ]
  },
  {
   "cell_type": "markdown",
   "id": "bb9bae07-d3b4-4051-b16d-309d2e7037f6",
   "metadata": {},
   "source": [
    "**Strings-5** Write a function in Python to parse a string such that it accepts a parameter- an encoded string. This encoded string will contain a first name, last name, and an id. You can separate the values in the string by any number of zeros. The id will not contain any zeros. The function should return a Python dictionary with the first name, last name, and id values. For example, if the input would be \"John000Doe000123\". Then the function should return: { \"first_name\": \"John\", \"last_name\": \"Doe\", \"id\": \"123\" }"
   ]
  },
  {
   "cell_type": "code",
   "execution_count": 189,
   "id": "6e223730-ade8-4724-9d09-aff7f2a37cfb",
   "metadata": {},
   "outputs": [],
   "source": [
    "def decoder_string(encoded_string: str) -> dict:\n",
    "    '''\n",
    "        Decode a string which includes the first and last name as\n",
    "        well as the id values to a dictionary.\n",
    "        \n",
    "        Parameters\n",
    "        ----------\n",
    "        encoded_string: str\n",
    "            The encoded string.\n",
    "            \n",
    "        Returns\n",
    "        -------\n",
    "        dict\n",
    "            A dictionary of first name last name and id values.\n",
    "            \n",
    "    '''\n",
    "    \n",
    "    assert isinstance(encoded_string, str), 'invalid input, input must be a `str`'\n",
    "    encoded_list = encoded_string.replace('0', ',').split(',')\n",
    "    encoded_set  = set(encoded_list)\n",
    "    encoded_set.remove('')\n",
    "    \n",
    "    details      = [encoded_list[0], encoded_list[-1]]\n",
    "    for detail in list(encoded_set):\n",
    "        if detail not in details:\n",
    "            details.append(detail)\n",
    "            \n",
    "    decoded = {'first_name': encoded_list[0], 'last_name': details[-1], 'id': encoded_list[-1]}\n",
    "    \n",
    "    return decoded"
   ]
  },
  {
   "cell_type": "markdown",
   "id": "82a83636-94a6-4612-8c8c-5d74c35ecceb",
   "metadata": {},
   "source": [
    "**Strings-6** Write a function in Python to convert a decimal to a hex. It must accept a string of ASCII characters as input. The function should return the value of each character as a hexadecimal string. You have to separate each byte by a space and return all alpha hexadecimal characters as lowercase."
   ]
  },
  {
   "cell_type": "code",
   "execution_count": 234,
   "id": "19499e53-e95c-4a22-b81d-3ebc6c8ed539",
   "metadata": {},
   "outputs": [],
   "source": [
    "def decimal_to_hex(decimal_string: str) -> str:\n",
    "    '''\n",
    "        Convert the string to a hexadecimal string separate\n",
    "        each byte by a space.\n",
    "        \n",
    "        Parameters\n",
    "        ----------\n",
    "        decimal_string: str\n",
    "            The string to be converted.\n",
    "            \n",
    "        Returns\n",
    "        -------\n",
    "        str\n",
    "            Hexadecimal string separated by a space.\n",
    "            \n",
    "    '''\n",
    "    \n",
    "    assert isinstance(decimal_string, str), 'invalid input, input must be a `str`'\n",
    "    \n",
    "    HEXADECIMAL_DICT = {}\n",
    "    with open('resources/hexadecimal_dict.txt') as f:\n",
    "        for line in f:\n",
    "            hexadecimal = [line[0], line.strip()[-2:]]\n",
    "            HEXADECIMAL_DICT[hexadecimal[0]] = hexadecimal[1]\n",
    "            \n",
    "    hexadecimal_string = ''\n",
    "    for char in decimal_string:\n",
    "        hexadecimal_string += HEXADECIMAL_DICT[char] + ' '\n",
    "        \n",
    "    return hexadecimal_string[:-1]"
   ]
  },
  {
   "cell_type": "markdown",
   "id": "65a1467e-dad5-497e-9ef5-4fcd5eae2d43",
   "metadata": {},
   "source": [
    "**Strings-7** Write a code in Python to find out whether a given string S is a valid regex or not."
   ]
  },
  {
   "cell_type": "code",
   "execution_count": 236,
   "id": "51da48a0-0125-4060-bf3c-25894cb38ee4",
   "metadata": {},
   "outputs": [],
   "source": [
    "def valid_regex(s: str) -> bool:\n",
    "    '''\n",
    "        Check whether there string is a valid regex.\n",
    "        \n",
    "        Parameters\n",
    "        ----------\n",
    "        s: str\n",
    "            The string to be checked\n",
    "            \n",
    "        Returns\n",
    "        -------\n",
    "        bool\n",
    "            True means it is a valid regex\n",
    "            \n",
    "    '''\n",
    "    \n",
    "    assert isinstance(s, str), 'invalid input, input must be a `str`'\n",
    "    \n",
    "    # Not yet finished"
   ]
  },
  {
   "cell_type": "markdown",
   "id": "0c97ddac-904e-430e-9ca8-e2f1666faf99",
   "metadata": {},
   "source": [
    "## END OF NOTEBOOK"
   ]
  }
 ],
 "metadata": {
  "kernelspec": {
   "display_name": "Python 3 (ipykernel)",
   "language": "python",
   "name": "python3"
  },
  "language_info": {
   "codemirror_mode": {
    "name": "ipython",
    "version": 3
   },
   "file_extension": ".py",
   "mimetype": "text/x-python",
   "name": "python",
   "nbconvert_exporter": "python",
   "pygments_lexer": "ipython3",
   "version": "3.9.6"
  }
 },
 "nbformat": 4,
 "nbformat_minor": 5
}
